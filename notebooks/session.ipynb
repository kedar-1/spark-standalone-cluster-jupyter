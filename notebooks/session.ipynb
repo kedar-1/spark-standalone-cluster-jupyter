{
 "cells": [
  {
   "cell_type": "code",
   "execution_count": null,
   "metadata": {},
   "outputs": [],
   "source": [
    "from pyspark.sql import SparkSession\n",
    "\n",
    "def start_spark_session(mode='client'):\n",
    "    if mode == 'cluster':\n",
    "        return SparkSession.builder \\\n",
    "            .appName(\"cluster-app\") \\\n",
    "            .master(\"spark://localhost:7077\") \\\n",
    "            .config('deploy-mode', 'cluster') \\\n",
    "            .config('spark.executor.memory', '3g') \\\n",
    "            .getOrCreate()\n",
    "    else:     \n",
    "        return SparkSession.builder \\\n",
    "            .config('spark.executor.memory', '16g') \\\n",
    "            .config('spark.driver.memory','16g') \\\n",
    "            .appName(\"localApp\") \\\n",
    "            .getOrCreate()\n",
    "              \n",
    "spark = start_spark_session('cluster')   \n"
   ]
  }
 ],
 "metadata": {
  "application/vnd.databricks.v1+notebook": {
   "dashboards": [],
   "environmentMetadata": null,
   "language": "python",
   "notebookMetadata": {
    "mostRecentlyExecutedCommandWithImplicitDF": {
     "commandId": 3304139579577790,
     "dataframes": [
      "_sqldf"
     ]
    },
    "pythonIndentUnit": 2
   },
   "notebookName": "CP2 - Classification & Clusterization",
   "widgets": {}
  },
  "kernelspec": {
   "display_name": "spark_env",
   "language": "python",
   "name": "python3"
  },
  "language_info": {
   "codemirror_mode": {
    "name": "ipython",
    "version": 3
   },
   "file_extension": ".py",
   "mimetype": "text/x-python",
   "name": "python",
   "nbconvert_exporter": "python",
   "pygments_lexer": "ipython3",
   "version": "3.12.6"
  }
 },
 "nbformat": 4,
 "nbformat_minor": 0
}
